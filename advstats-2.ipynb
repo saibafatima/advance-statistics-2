{
 "cells": [
  {
   "cell_type": "code",
   "execution_count": 1,
   "id": "515516be-e4a7-40bb-bd5f-6d642e810e1f",
   "metadata": {},
   "outputs": [
    {
     "ename": "SyntaxError",
     "evalue": "invalid character '≥' (U+2265) (389142013.py, line 5)",
     "output_type": "error",
     "traceback": [
      "\u001b[0;36m  Cell \u001b[0;32mIn[1], line 5\u001b[0;36m\u001b[0m\n\u001b[0;31m    P(x) ≥ 0 for all x\u001b[0m\n\u001b[0m         ^\u001b[0m\n\u001b[0;31mSyntaxError\u001b[0m\u001b[0;31m:\u001b[0m invalid character '≥' (U+2265)\n"
     ]
    }
   ],
   "source": [
    "Q1: What are the Probability Mass Function (PMF) and Probability Density Function (PDF)? Explain with an example.\n",
    "\n",
    "Probability Mass Function (PMF): A PMF is a function that describes the probability of each distinct value of a discrete random variable. It is denoted by P(x) and satisfies the following properties:\n",
    "\n",
    "P(x) ≥ 0 for all x\n",
    "∑P(x) = 1 over all possible values of x\n",
    "Example: Consider a coin toss with two possible outcomes: Heads (H) and Tails (T). The PMF of this experiment is:\n",
    "\n",
    "P(H) = 0.5 P(T) = 0.5\n",
    "\n",
    "Probability Density Function (PDF): A PDF is a function that describes the probability distribution of a continuous random variable. It is denoted by f(x) and satisfies the following properties:\n",
    "\n",
    "f(x) ≥ 0 for all x\n",
    "∫f(x)dx = 1 over the entire range of x\n",
    "Example: Consider a random variable X that follows a uniform distribution between 0 and 1. The PDF of X is:\n",
    "\n",
    "f(x) = 1 for 0 ≤ x ≤ 1 f(x) = 0 otherwise"
   ]
  },
  {
   "cell_type": "code",
   "execution_count": 2,
   "id": "310f911e-d872-49c1-bb40-8c9aad7c0338",
   "metadata": {},
   "outputs": [
    {
     "ename": "SyntaxError",
     "evalue": "invalid character '≤' (U+2264) (3164875659.py, line 5)",
     "output_type": "error",
     "traceback": [
      "\u001b[0;36m  Cell \u001b[0;32mIn[2], line 5\u001b[0;36m\u001b[0m\n\u001b[0;31m    F(x) = P(X ≤ x)\u001b[0m\n\u001b[0m               ^\u001b[0m\n\u001b[0;31mSyntaxError\u001b[0m\u001b[0;31m:\u001b[0m invalid character '≤' (U+2264)\n"
     ]
    }
   ],
   "source": [
    "Q2: What is Cumulative Density Function (CDF)? Explain with an example. Why CDF is used?\n",
    "\n",
    "Cumulative Density Function (CDF): A CDF is a function that describes the cumulative probability of a random variable up to a certain point. It is denoted by F(x) and satisfies the following properties:\n",
    "\n",
    "F(x) = P(X ≤ x)\n",
    "F(x) is non-decreasing\n",
    "F(-∞) = 0 and F(∞) = 1\n",
    "Example: Consider a random variable X that follows a uniform distribution between 0 and 1. The CDF of X is:\n",
    "\n",
    "F(x) = x for 0 ≤ x ≤ 1 F(x) = 0 for x < 0 F(x) = 1 for x > 1\n",
    "\n",
    "CDF is used to calculate the probability of a random variable taking on a value less than or equal to a certain point. It is also used to calculate the quantiles of a distribution."
   ]
  },
  {
   "cell_type": "code",
   "execution_count": 3,
   "id": "5c389d78-9edc-4277-8a6c-0c88cd1116fb",
   "metadata": {},
   "outputs": [
    {
     "ename": "SyntaxError",
     "evalue": "invalid syntax (2791922527.py, line 1)",
     "output_type": "error",
     "traceback": [
      "\u001b[0;36m  Cell \u001b[0;32mIn[3], line 1\u001b[0;36m\u001b[0m\n\u001b[0;31m    Q3: What are some examples of situations where the normal distribution might be used as a model? Explain how the parameters of the normal distribution relate to the shape of the distribution.\u001b[0m\n\u001b[0m             ^\u001b[0m\n\u001b[0;31mSyntaxError\u001b[0m\u001b[0;31m:\u001b[0m invalid syntax\n"
     ]
    }
   ],
   "source": [
    "Q3: What are some examples of situations where the normal distribution might be used as a model? Explain how the parameters of the normal distribution relate to the shape of the distribution.\n",
    "\n",
    "The normal distribution is commonly used to model real-valued random variables that are expected to be symmetric and bell-shaped. Examples include:\n",
    "\n",
    "Human heights and weights\n",
    "IQ scores\n",
    "Errors in measurement\n",
    "The parameters of the normal distribution are:\n",
    "\n",
    "Mean (μ): The average value of the distribution\n",
    "Standard Deviation (σ): The spread or dispersion of the distribution\n",
    "The shape of the normal distribution is determined by these parameters:\n",
    "\n",
    "The mean determines the location of the distribution\n",
    "The standard deviation determines the spread of the distribution\n",
    "A small standard deviation results in a narrow distribution, while a large standard deviation results in a wide distribution"
   ]
  },
  {
   "cell_type": "code",
   "execution_count": 4,
   "id": "faee7f9d-f085-48fd-9907-7f7cfef70ddf",
   "metadata": {},
   "outputs": [
    {
     "ename": "SyntaxError",
     "evalue": "invalid syntax (299655766.py, line 1)",
     "output_type": "error",
     "traceback": [
      "\u001b[0;36m  Cell \u001b[0;32mIn[4], line 1\u001b[0;36m\u001b[0m\n\u001b[0;31m    Q4: Explain the importance of Normal Distribution. Give a few real-life examples of Normal Distribution.\u001b[0m\n\u001b[0m                ^\u001b[0m\n\u001b[0;31mSyntaxError\u001b[0m\u001b[0;31m:\u001b[0m invalid syntax\n"
     ]
    }
   ],
   "source": [
    "Q4: Explain the importance of Normal Distribution. Give a few real-life examples of Normal Distribution.\n",
    "\n",
    "The normal distribution is important because it is a common and well-studied distribution that appears in many natural phenomena. It is also a good approximation to many other distributions, making it a useful tool for modeling and analysis.\n",
    "\n",
    "Real-life examples of normal distribution include:\n",
    "\n",
    "Human heights and weights\n",
    "IQ scores\n",
    "Errors in measurement\n",
    "Stock prices\n",
    "Blood pressure readings"
   ]
  },
  {
   "cell_type": "code",
   "execution_count": 5,
   "id": "3dfaa996-2944-4e28-8b48-7a2a0aee67e6",
   "metadata": {},
   "outputs": [
    {
     "ename": "SyntaxError",
     "evalue": "invalid syntax (150278829.py, line 3)",
     "output_type": "error",
     "traceback": [
      "\u001b[0;36m  Cell \u001b[0;32mIn[5], line 3\u001b[0;36m\u001b[0m\n\u001b[0;31m    Bernoulli Distribution: A Bernoulli distribution is a discrete distribution that models a single trial with two possible outcomes: success (1) and failure (0). It is characterized by a single parameter p, which is the probability of success.\u001b[0m\n\u001b[0m              ^\u001b[0m\n\u001b[0;31mSyntaxError\u001b[0m\u001b[0;31m:\u001b[0m invalid syntax\n"
     ]
    }
   ],
   "source": [
    "Q5: What is Bernaulli Distribution? Give an Example. What is the difference between Bernoulli Distribution and Binomial Distribution?\n",
    "\n",
    "Bernoulli Distribution: A Bernoulli distribution is a discrete distribution that models a single trial with two possible outcomes: success (1) and failure (0). It is characterized by a single parameter p, which is the probability of success.\n",
    "\n",
    "Example: Consider a coin toss with a probability of heads (success) of 0.5.\n",
    "\n",
    "Binomial Distribution: A binomial distribution is a discrete distribution that models the number of successes in a fixed number of independent trials, each with a constant probability of success.\n",
    "\n",
    "The main difference between Bernoulli and Binomial distributions is:\n",
    "\n",
    "Bernoulli distribution models a single trial, while Binomial distribution models multiple trials.\n",
    "Bernoulli distribution has two possible outcomes, while Binomial distribution has multiple possible outcomes."
   ]
  },
  {
   "cell_type": "code",
   "execution_count": 6,
   "id": "d943ac9b-5152-4c0f-b204-9ec0104df3f3",
   "metadata": {},
   "outputs": [
    {
     "ename": "SyntaxError",
     "evalue": "unterminated string literal (detected at line 1) (4047409046.py, line 1)",
     "output_type": "error",
     "traceback": [
      "\u001b[0;36m  Cell \u001b[0;32mIn[6], line 1\u001b[0;36m\u001b[0m\n\u001b[0;31m    I'd be happy to help you with these questions!\u001b[0m\n\u001b[0m     ^\u001b[0m\n\u001b[0;31mSyntaxError\u001b[0m\u001b[0;31m:\u001b[0m unterminated string literal (detected at line 1)\n"
     ]
    }
   ],
   "source": [
    "I'd be happy to help you with these questions!\n",
    "\n",
    "Q6: Consider a dataset with a mean of 50 and a standard deviation of 10. If we assume that the dataset is normally distributed, what is the probability that a randomly selected observation will be greater than 60? Use the appropriate formula and show your calculations.\n",
    "\n",
    "To solve this problem, we can use the z-score formula:\n",
    "\n",
    "z = (x - μ) / σ\n",
    "\n"
   ]
  },
  {
   "cell_type": "code",
   "execution_count": 7,
   "id": "0efd7b5b-f488-4d97-8f59-fd43d28cc304",
   "metadata": {},
   "outputs": [
    {
     "ename": "SyntaxError",
     "evalue": "invalid character '≤' (U+2264) (4288702581.py, line 5)",
     "output_type": "error",
     "traceback": [
      "\u001b[0;36m  Cell \u001b[0;32mIn[7], line 5\u001b[0;36m\u001b[0m\n\u001b[0;31m    f(x) = 1 / (b - a) for a ≤ x ≤ b f(x) = 0 otherwise\u001b[0m\n\u001b[0m                             ^\u001b[0m\n\u001b[0;31mSyntaxError\u001b[0m\u001b[0;31m:\u001b[0m invalid character '≤' (U+2264)\n"
     ]
    }
   ],
   "source": [
    "Q7: Explain uniform Distribution with an example.\n",
    "\n",
    "A uniform distribution is a continuous probability distribution where every possible value within a given interval has an equal probability of being selected. The probability density function (PDF) of a uniform distribution is:\n",
    "\n",
    "f(x) = 1 / (b - a) for a ≤ x ≤ b f(x) = 0 otherwise\n",
    "\n",
    "where a and b are the lower and upper bounds of the interval, respectively.\n",
    "\n",
    "Example: Consider a random variable X that represents the time it takes for a customer to arrive at a bank. Assume that the time is uniformly distributed between 0 and 10 minutes.\n",
    "\n",
    "In this case, the PDF of X is:\n",
    "\n",
    "f(x) = 1 / 10 for 0 ≤ x ≤ 10 f(x) = 0 otherwise\n",
    "\n",
    "The probability that a customer arrives within 5 minutes is:\n",
    "\n",
    "P(X ≤ 5) = ∫[0,5] f(x) dx = (1/10) * 5 = 0.5\n",
    "\n",
    "Therefore, the probability that a customer arrives within 5 minutes is 0.5 or 50%."
   ]
  },
  {
   "cell_type": "code",
   "execution_count": 8,
   "id": "a7cdceef-735e-4707-8c93-9cc3c3b83361",
   "metadata": {},
   "outputs": [
    {
     "ename": "SyntaxError",
     "evalue": "invalid syntax (3594861430.py, line 1)",
     "output_type": "error",
     "traceback": [
      "\u001b[0;36m  Cell \u001b[0;32mIn[8], line 1\u001b[0;36m\u001b[0m\n\u001b[0;31m    Q8: What is the z score? State the importance of the z score.\u001b[0m\n\u001b[0m                    ^\u001b[0m\n\u001b[0;31mSyntaxError\u001b[0m\u001b[0;31m:\u001b[0m invalid syntax\n"
     ]
    }
   ],
   "source": [
    "Q8: What is the z score? State the importance of the z score.\n",
    "\n",
    "The z-score is a measure of how many standard deviations an observation is away from the mean of a normal distribution. It is calculated using the formula:\n",
    "\n",
    "z = (x - μ) / σ\n",
    "\n",
    "where x is the observation, μ is the mean, and σ is the standard deviation.\n",
    "\n",
    "The importance of the z-score lies in its ability to:\n",
    "\n",
    "Standardize values from different distributions, allowing for comparisons between them\n",
    "Identify outliers and anomalies in a dataset\n",
    "Calculate probabilities and percentiles in a normal distribution\n",
    "Facilitate statistical inference and hypothesis testing"
   ]
  },
  {
   "cell_type": "code",
   "execution_count": 9,
   "id": "316dc1ea-2db9-4ff7-8ddb-b5e97b4cd685",
   "metadata": {},
   "outputs": [
    {
     "ename": "SyntaxError",
     "evalue": "invalid syntax (4088769995.py, line 1)",
     "output_type": "error",
     "traceback": [
      "\u001b[0;36m  Cell \u001b[0;32mIn[9], line 1\u001b[0;36m\u001b[0m\n\u001b[0;31m    Q9: What is Central Limit Theorem? State the significance of the Central Limit Theorem.\u001b[0m\n\u001b[0m                        ^\u001b[0m\n\u001b[0;31mSyntaxError\u001b[0m\u001b[0;31m:\u001b[0m invalid syntax\n"
     ]
    }
   ],
   "source": [
    "Q9: What is Central Limit Theorem? State the significance of the Central Limit Theorem.\n",
    "\n",
    "The Central Limit Theorem (CLT) is a fundamental concept in probability theory that states that, given certain conditions, the distribution of the mean of a large sample of independent and identically distributed random variables will be approximately normal, even if the underlying distribution is not normal.\n",
    "\n",
    "The significance of the CLT lies in its ability to:\n",
    "\n",
    "Provide a theoretical basis for statistical inference and hypothesis testing\n",
    "Enable the use of normal distribution-based methods for analyzing large datasets\n",
    "Facilitate the calculation of probabilities and percentiles in complex distributions\n",
    "Simplify the analysis of complex systems and phenomena"
   ]
  },
  {
   "cell_type": "code",
   "execution_count": 10,
   "id": "fbc1434b-0d1d-494e-b9e6-fe0dc48bcc28",
   "metadata": {},
   "outputs": [
    {
     "ename": "SyntaxError",
     "evalue": "invalid character '≥' (U+2265) (3549862243.py, line 8)",
     "output_type": "error",
     "traceback": [
      "\u001b[0;36m  Cell \u001b[0;32mIn[10], line 8\u001b[0;36m\u001b[0m\n\u001b[0;31m    Large Sample Size: The sample size must be sufficiently large (typically ≥ 30) for the CLT to hold.\u001b[0m\n\u001b[0m                                                                             ^\u001b[0m\n\u001b[0;31mSyntaxError\u001b[0m\u001b[0;31m:\u001b[0m invalid character '≥' (U+2265)\n"
     ]
    }
   ],
   "source": [
    "Q10: State the assumptions of the Central Limit Theorem.\n",
    "\n",
    "The assumptions of the Central Limit Theorem are:\n",
    "\n",
    "Independence: The random variables in the sample must be independent and identically distributed.\n",
    "Identical Distribution: The random variables in the sample must have the same distribution.\n",
    "Finite Variance: The random variables in the sample must have a finite variance.\n",
    "Large Sample Size: The sample size must be sufficiently large (typically ≥ 30) for the CLT to hold.\n",
    "Note that these assumptions are not always met in practice, and the CLT may not hold in certain situations. However, the CLT remains a powerful tool for statistical analysis and inference."
   ]
  },
  {
   "cell_type": "code",
   "execution_count": null,
   "id": "8d015f3b-5242-4dbc-995b-8b6a78683768",
   "metadata": {},
   "outputs": [],
   "source": []
  }
 ],
 "metadata": {
  "kernelspec": {
   "display_name": "Python 3 (ipykernel)",
   "language": "python",
   "name": "python3"
  },
  "language_info": {
   "codemirror_mode": {
    "name": "ipython",
    "version": 3
   },
   "file_extension": ".py",
   "mimetype": "text/x-python",
   "name": "python",
   "nbconvert_exporter": "python",
   "pygments_lexer": "ipython3",
   "version": "3.10.8"
  }
 },
 "nbformat": 4,
 "nbformat_minor": 5
}
